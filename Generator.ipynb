{
  "nbformat": 4,
  "nbformat_minor": 0,
  "metadata": {
    "colab": {
      "provenance": []
    },
    "kernelspec": {
      "name": "python3",
      "display_name": "Python 3"
    },
    "language_info": {
      "name": "python"
    }
  },
  "cells": [
    {
      "cell_type": "markdown",
      "source": [
        "#**Generator**"
      ],
      "metadata": {
        "id": "bKm2ARe-Btqz"
      }
    },
    {
      "cell_type": "markdown",
      "source": [
        "##**Iterable Object**\n",
        "\n",
        "###Sequence형 자료(리스트, 튜플, 문자열)에서 데이터를 순서대로 추출하는 Object.\n",
        "###Sequence형 자료를 iter과 next로 순서대로 접근 가능."
      ],
      "metadata": {
        "id": "4ErHrBUsfphX"
      }
    },
    {
      "cell_type": "code",
      "source": [
        "cities = ['seoul', 'busan', 'jeju']\n",
        "\n",
        "iter_cities = iter(cities)\n",
        "print(iter_cities)\n",
        "\n",
        "print(next(iter_cities))"
      ],
      "metadata": {
        "colab": {
          "base_uri": "https://localhost:8080/"
        },
        "id": "ymgjF-NasPf9",
        "outputId": "0936ad76-0149-4007-f985-fd8363524b77"
      },
      "execution_count": 37,
      "outputs": [
        {
          "output_type": "stream",
          "name": "stdout",
          "text": [
            "<list_iterator object at 0x7b865e017880>\n",
            "seoul\n"
          ]
        }
      ]
    },
    {
      "cell_type": "code",
      "source": [
        "print(next(iter_cities))\n",
        "print(next(iter_cities))"
      ],
      "metadata": {
        "colab": {
          "base_uri": "https://localhost:8080/"
        },
        "id": "T_juSl3-s2lH",
        "outputId": "e67eba94-cb62-4fb0-ea9f-faa7e88db2f6"
      },
      "execution_count": 38,
      "outputs": [
        {
          "output_type": "stream",
          "name": "stdout",
          "text": [
            "busan\n",
            "jeju\n"
          ]
        }
      ]
    },
    {
      "cell_type": "code",
      "source": [
        "print(next(iter_cities))\n",
        "# 더이상 다음 값이 없기 때문에 에러 발생"
      ],
      "metadata": {
        "colab": {
          "base_uri": "https://localhost:8080/",
          "height": 203
        },
        "id": "M5wT28m5s8fB",
        "outputId": "bd6afddb-2fa7-45a1-cefe-381de80f9471"
      },
      "execution_count": 39,
      "outputs": [
        {
          "output_type": "error",
          "ename": "StopIteration",
          "evalue": "ignored",
          "traceback": [
            "\u001b[0;31m---------------------------------------------------------------------------\u001b[0m",
            "\u001b[0;31mStopIteration\u001b[0m                             Traceback (most recent call last)",
            "\u001b[0;32m<ipython-input-39-ab8f4ef17880>\u001b[0m in \u001b[0;36m<cell line: 1>\u001b[0;34m()\u001b[0m\n\u001b[0;32m----> 1\u001b[0;31m \u001b[0mprint\u001b[0m\u001b[0;34m(\u001b[0m\u001b[0mnext\u001b[0m\u001b[0;34m(\u001b[0m\u001b[0miter_cities\u001b[0m\u001b[0;34m)\u001b[0m\u001b[0;34m)\u001b[0m\u001b[0;34m\u001b[0m\u001b[0;34m\u001b[0m\u001b[0m\n\u001b[0m\u001b[1;32m      2\u001b[0m \u001b[0;31m# 더이상 다음 값이 없기 때문에 에러 발생\u001b[0m\u001b[0;34m\u001b[0m\u001b[0;34m\u001b[0m\u001b[0m\n",
            "\u001b[0;31mStopIteration\u001b[0m: "
          ]
        }
      ]
    },
    {
      "cell_type": "code",
      "source": [
        "# 또다른 iterator 생성 방법\n",
        "# iters_cities = iter(cities)\n",
        "\n",
        "cities = ['seoul', 'busan', 'jeju']\n",
        "iters_cities = cities.__iter__()"
      ],
      "metadata": {
        "id": "_H9Ph325tUfg"
      },
      "execution_count": 24,
      "outputs": []
    },
    {
      "cell_type": "code",
      "source": [
        "print(iters_cities.__next__())\n",
        "print(iters_cities.__next__())\n",
        "print(next(iters_cities))"
      ],
      "metadata": {
        "colab": {
          "base_uri": "https://localhost:8080/"
        },
        "id": "od5geHhet1ih",
        "outputId": "4b22e626-650f-43af-87c1-d800e937bf5f"
      },
      "execution_count": 25,
      "outputs": [
        {
          "output_type": "stream",
          "name": "stdout",
          "text": [
            "seoul\n",
            "busan\n",
            "jeju\n"
          ]
        }
      ]
    },
    {
      "cell_type": "code",
      "source": [
        "# 메모리 효율 특징\n",
        "from sys import getsizeof\n",
        "\n",
        "print('type: ', type(iter_cities))\n",
        "print('type: ', type(cities))\n",
        "print(getsizeof(iter_cities)) # iterator\n",
        "print(getsizeof(cities)) # 리스트"
      ],
      "metadata": {
        "colab": {
          "base_uri": "https://localhost:8080/"
        },
        "id": "UwAKLVNqtC7T",
        "outputId": "87dc2a31-b918-4a33-c1b6-27aa90f9b189"
      },
      "execution_count": 40,
      "outputs": [
        {
          "output_type": "stream",
          "name": "stdout",
          "text": [
            "type:  <class 'list_iterator'>\n",
            "type:  <class 'list'>\n",
            "48\n",
            "88\n"
          ]
        }
      ]
    },
    {
      "cell_type": "code",
      "source": [
        "from sys import getsizeof\n",
        "ll = [n for n in range(100000)] # 데이터가 100,000개 일 때\n",
        "it = iter(ll)\n",
        "print(getsizeof(ll))\n",
        "print(getsizeof(it))\n",
        "print(getsizeof(list(it)))"
      ],
      "metadata": {
        "colab": {
          "base_uri": "https://localhost:8080/"
        },
        "id": "ttqhUIxJ5-Eh",
        "outputId": "283a8652-e249-4b9e-c834-ca2d0c2bebff"
      },
      "execution_count": 41,
      "outputs": [
        {
          "output_type": "stream",
          "name": "stdout",
          "text": [
            "800984\n",
            "48\n",
            "800056\n"
          ]
        }
      ]
    },
    {
      "cell_type": "code",
      "source": [
        "# iterator 클래스 뜯어보기\n",
        "class MyIterator:\n",
        "    def __init__(self, data):\n",
        "        self.data = data\n",
        "        self.position = 0\n",
        "\n",
        "    def __iter__(self): # __붙이는 것은 매직 매소드라는 것인데 개발할 것 아니니까 패스.\n",
        "        return self\n",
        "\n",
        "    def __next__(self):\n",
        "        if self.position >= len(self.data):\n",
        "            raise StopIteration\n",
        "        result = self.data[self.position]\n",
        "        self.position += 1\n",
        "        return result\n",
        "\n",
        "\n",
        "if __name__ == \"__main__\":\n",
        "    i = MyIterator([1,2,3])\n",
        "    for item in i:\n",
        "        print(item)"
      ],
      "metadata": {
        "colab": {
          "base_uri": "https://localhost:8080/"
        },
        "id": "Tn_GXF9teQKY",
        "outputId": "d3fff0e8-dd67-43fb-bdc9-6812a58462fa"
      },
      "execution_count": 42,
      "outputs": [
        {
          "output_type": "stream",
          "name": "stdout",
          "text": [
            "1\n",
            "2\n",
            "3\n"
          ]
        }
      ]
    },
    {
      "cell_type": "markdown",
      "source": [
        "##Generator란?\n",
        "\n",
        "generator도 iterator의 한 종류로 iter과 next를 포함하고 있음.\n",
        "\n",
        "yield가 포함된 함수.\n",
        "\n",
        "\n",
        "yield가 포함되면 def는 함수가 아닌 generator로 인식."
      ],
      "metadata": {
        "id": "Opj0WyiBBle_"
      }
    },
    {
      "cell_type": "code",
      "source": [
        "def generator_func():\n",
        "  print('1번 실행')\n",
        "  yield 1\n",
        "  print('2번 실행')\n",
        "  yield 2\n",
        "  print('3번 실행')\n",
        "  yield 3\n",
        "\n",
        "gen = generator_func()\n",
        "print('객체 생성 -> 객체 주소 : ', gen) # generator 객체 생성 = 실행 준비\n",
        "print('hasattr - iter :', hasattr(gen, '__iter__')) # True\n",
        "print('hasattr - next :',hasattr(gen, '__next__')) # True\n",
        "print(gen.__next__()) # 1\n",
        "print('stop')\n",
        "print(next(gen))\n",
        "print('stop')\n",
        "print(next(gen))\n",
        "print('type : ', type(gen))"
      ],
      "metadata": {
        "colab": {
          "base_uri": "https://localhost:8080/"
        },
        "id": "vqAFwn-aBgi-",
        "outputId": "7b85b748-003e-431d-edb5-eb56fbae5c77"
      },
      "execution_count": 47,
      "outputs": [
        {
          "output_type": "stream",
          "name": "stdout",
          "text": [
            "객체 생성 -> 객체 주소 :  <generator object generator_func at 0x7b864999b610>\n",
            "hasattr - iter : True\n",
            "hasattr - next : True\n",
            "1번 실행\n",
            "1\n",
            "stop\n",
            "2번 실행\n",
            "2\n",
            "stop\n",
            "3번 실행\n",
            "3\n",
            "type :  <class 'generator'>\n"
          ]
        }
      ]
    },
    {
      "cell_type": "code",
      "source": [
        "print(next(gen)) # -> 한번 더 호출하면 에러"
      ],
      "metadata": {
        "colab": {
          "base_uri": "https://localhost:8080/",
          "height": 184
        },
        "id": "plbA9SsRx3Oj",
        "outputId": "9721b299-787a-4e89-a23c-96c329431a75"
      },
      "execution_count": 60,
      "outputs": [
        {
          "output_type": "error",
          "ename": "StopIteration",
          "evalue": "ignored",
          "traceback": [
            "\u001b[0;31m---------------------------------------------------------------------------\u001b[0m",
            "\u001b[0;31mStopIteration\u001b[0m                             Traceback (most recent call last)",
            "\u001b[0;32m<ipython-input-60-444da55c2164>\u001b[0m in \u001b[0;36m<cell line: 1>\u001b[0;34m()\u001b[0m\n\u001b[0;32m----> 1\u001b[0;31m \u001b[0mprint\u001b[0m\u001b[0;34m(\u001b[0m\u001b[0mnext\u001b[0m\u001b[0;34m(\u001b[0m\u001b[0mgen\u001b[0m\u001b[0;34m)\u001b[0m\u001b[0;34m)\u001b[0m \u001b[0;31m# -> 한번 더 호출하면 에러\u001b[0m\u001b[0;34m\u001b[0m\u001b[0;34m\u001b[0m\u001b[0m\n\u001b[0m",
            "\u001b[0;31mStopIteration\u001b[0m: "
          ]
        }
      ]
    },
    {
      "cell_type": "markdown",
      "source": [
        "generator 함수를 호출하면 generator 객체가 생성."
      ],
      "metadata": {
        "id": "-dUiAHjGCoHb"
      }
    },
    {
      "cell_type": "code",
      "source": [
        "def ret(num): # return을 사용하는 함수\n",
        "  for i in range(num):\n",
        "    print('return')\n",
        "    return i\n",
        "\n",
        "def yie(num) : # yield를 사용하는 generator\n",
        "  for i in range(num):\n",
        "    print('yield') # yield를 사용하기 전이라 출력이 될 것 같지만 출력 X -> 일반적인 함수 로직 X\n",
        "    yield i # yield 사용하면 메인에 순서 양보\n",
        "\n",
        "re = ret(9) # return을 사용하면 함수가 종료되며 반환\n",
        "print(re)\n",
        "yi = yie(9) # yield를 사용하면 일단 Iterator를 실행할 준비 완료된 상태.\n",
        "print(yi) # generator 객체 생성"
      ],
      "metadata": {
        "colab": {
          "base_uri": "https://localhost:8080/"
        },
        "id": "Ld6LhWtABguT",
        "outputId": "6954fcfd-e133-4ae4-e580-ec247ee9f52d"
      },
      "execution_count": 65,
      "outputs": [
        {
          "output_type": "stream",
          "name": "stdout",
          "text": [
            "return\n",
            "0\n",
            "<generator object yie at 0x7b864999b8b0>\n"
          ]
        }
      ]
    },
    {
      "cell_type": "markdown",
      "source": [
        "###return을 사용한 함수는 return이 사용되면서 동시에 함수 종료.\n",
        "### 다시 함수를 사용하려면 처음부터 다시 시작해야 함.\n",
        "\n",
        "###.\n",
        "### 하지만 generator는 순서를 기억해서 다시 호출하면 이어서 다음 순서 진행"
      ],
      "metadata": {
        "id": "xiUiaSN_yR1E"
      }
    },
    {
      "cell_type": "code",
      "source": [
        "def yie(num) : # yield를 사용하는 generator\n",
        "  for i in range(num):\n",
        "    print('yield') # yield를 사용하기 전이라 출력이 될 것 같지만 출력 X -> 일반적인 함수 로직 X\n",
        "    yield i\n",
        "\n",
        "for j in yi:\n",
        "  print('for문')\n",
        "  print(j)\n",
        "\n",
        "# print(next()) # 한번 반복을 다 돌았기 때문에 에러 발생"
      ],
      "metadata": {
        "colab": {
          "base_uri": "https://localhost:8080/"
        },
        "id": "N6mJEnkjHEFx",
        "outputId": "d6fc6c0c-5f02-4cb5-ba65-1432e35a49f0"
      },
      "execution_count": 66,
      "outputs": [
        {
          "output_type": "stream",
          "name": "stdout",
          "text": [
            "yield\n",
            "for문\n",
            "0\n",
            "yield\n",
            "for문\n",
            "1\n",
            "yield\n",
            "for문\n",
            "2\n",
            "yield\n",
            "for문\n",
            "3\n",
            "yield\n",
            "for문\n",
            "4\n",
            "yield\n",
            "for문\n",
            "5\n",
            "yield\n",
            "for문\n",
            "6\n",
            "yield\n",
            "for문\n",
            "7\n",
            "yield\n",
            "for문\n",
            "8\n"
          ]
        }
      ]
    },
    {
      "cell_type": "code",
      "source": [
        "yi = yie(9) # 처음을 다시 사용하려면 다시 생성해야 함 = 뒤로가기 없음.\n",
        "print(next(yi))"
      ],
      "metadata": {
        "colab": {
          "base_uri": "https://localhost:8080/"
        },
        "id": "hk6MiD5vysjt",
        "outputId": "e6303921-1fd3-40e3-9f58-7b15226c8dd1"
      },
      "execution_count": 32,
      "outputs": [
        {
          "output_type": "stream",
          "name": "stdout",
          "text": [
            "yield\n",
            "0\n"
          ]
        }
      ]
    },
    {
      "cell_type": "markdown",
      "source": [
        "##generator의 단점\n",
        "\n",
        "##1. 속도가 느리다(=시간이 오래 걸린다)\n",
        "## 2. 자주 사용하는 용도와는 맞지 않다 (데이터 분석에서 잘 사용 안하는 이유 같음)\n",
        "##(한번 지나가면 다시 사용 X)"
      ],
      "metadata": {
        "id": "aRhZrR4maTCS"
      }
    },
    {
      "cell_type": "code",
      "source": [
        "import time\n",
        "def sum_with_generator(iterable):\n",
        "  start = time.perf_counter()\n",
        "  sum((i for i in iterable))\n",
        "  return time.perf_counter()-start\n",
        "\n",
        "def sum_with_list(iterable):\n",
        "  start = time.perf_counter()\n",
        "  sum(iterable)\n",
        "  return time.perf_counter()-start\n",
        "\n",
        "print('제너레이터 합계 계산 시간 :', sum_with_generator(range(1000000)), 'sec')\n",
        "print('리스트 합계 계산 시간 :', sum_with_list(list(range(1000000))), 'sec')"
      ],
      "metadata": {
        "colab": {
          "base_uri": "https://localhost:8080/"
        },
        "id": "tSh-e8V5ZsMa",
        "outputId": "2757d93c-e4ea-4f93-c8b2-b9e16179bb2b"
      },
      "execution_count": 67,
      "outputs": [
        {
          "output_type": "stream",
          "name": "stdout",
          "text": [
            "제너레이터 합계 계산 시간 : 0.03610018799736281 sec\n",
            "리스트 합계 계산 시간 : 0.0035702700006368104 sec\n"
          ]
        }
      ]
    },
    {
      "cell_type": "markdown",
      "source": [
        "## generator comprehension\n",
        "## generator 사용 예시"
      ],
      "metadata": {
        "id": "XfxRMDjgzjyh"
      }
    },
    {
      "cell_type": "code",
      "source": [
        "# list comprehension\n",
        "\n",
        "x = [n for n in range(50)]\n",
        "print(x)\n",
        "print(type(x))"
      ],
      "metadata": {
        "colab": {
          "base_uri": "https://localhost:8080/"
        },
        "id": "s7Y1XzZmHJCj",
        "outputId": "ab6787ae-87e1-4673-94da-0c99e9444052"
      },
      "execution_count": 29,
      "outputs": [
        {
          "output_type": "stream",
          "name": "stdout",
          "text": [
            "[0, 1, 2, 3, 4, 5, 6, 7, 8, 9, 10, 11, 12, 13, 14, 15, 16, 17, 18, 19, 20, 21, 22, 23, 24, 25, 26, 27, 28, 29, 30, 31, 32, 33, 34, 35, 36, 37, 38, 39, 40, 41, 42, 43, 44, 45, 46, 47, 48, 49]\n",
            "<class 'list'>\n"
          ]
        }
      ]
    },
    {
      "cell_type": "code",
      "source": [
        "# generator comprehension\n",
        "\n",
        "gen_ex = (n for n in range(50))\n",
        "print(gen_ex)\n",
        "print(type(gen_ex))\n",
        "print(next(gen_ex))\n",
        "print(list(gen_ex)) # next했기 때문에 1부터 시작"
      ],
      "metadata": {
        "colab": {
          "base_uri": "https://localhost:8080/"
        },
        "id": "dmUaP-SwHKzq",
        "outputId": "28949446-8252-46bf-f295-077a6a653feb"
      },
      "execution_count": 57,
      "outputs": [
        {
          "output_type": "stream",
          "name": "stdout",
          "text": [
            "<generator object <genexpr> at 0x7b864999bae0>\n",
            "<class 'generator'>\n",
            "0\n",
            "[1, 2, 3, 4, 5, 6, 7, 8, 9, 10, 11, 12, 13, 14, 15, 16, 17, 18, 19, 20, 21, 22, 23, 24, 25, 26, 27, 28, 29, 30, 31, 32, 33, 34, 35, 36, 37, 38, 39, 40, 41, 42, 43, 44, 45, 46, 47, 48, 49]\n"
          ]
        }
      ]
    },
    {
      "cell_type": "code",
      "source": [
        "print(next(gen_ex))\n",
        "print(next(gen_ex))\n",
        "print(next(gen_ex))"
      ],
      "metadata": {
        "colab": {
          "base_uri": "https://localhost:8080/",
          "height": 221
        },
        "id": "rwzKJ047HcOb",
        "outputId": "db7e0704-e570-4af7-b499-8dfebe147739"
      },
      "execution_count": 58,
      "outputs": [
        {
          "output_type": "error",
          "ename": "StopIteration",
          "evalue": "ignored",
          "traceback": [
            "\u001b[0;31m---------------------------------------------------------------------------\u001b[0m",
            "\u001b[0;31mStopIteration\u001b[0m                             Traceback (most recent call last)",
            "\u001b[0;32m<ipython-input-58-5d68fddd0e12>\u001b[0m in \u001b[0;36m<cell line: 1>\u001b[0;34m()\u001b[0m\n\u001b[0;32m----> 1\u001b[0;31m \u001b[0mprint\u001b[0m\u001b[0;34m(\u001b[0m\u001b[0mnext\u001b[0m\u001b[0;34m(\u001b[0m\u001b[0mgen_ex\u001b[0m\u001b[0;34m)\u001b[0m\u001b[0;34m)\u001b[0m\u001b[0;34m\u001b[0m\u001b[0;34m\u001b[0m\u001b[0m\n\u001b[0m\u001b[1;32m      2\u001b[0m \u001b[0mprint\u001b[0m\u001b[0;34m(\u001b[0m\u001b[0mnext\u001b[0m\u001b[0;34m(\u001b[0m\u001b[0mgen_ex\u001b[0m\u001b[0;34m)\u001b[0m\u001b[0;34m)\u001b[0m\u001b[0;34m\u001b[0m\u001b[0;34m\u001b[0m\u001b[0m\n\u001b[1;32m      3\u001b[0m \u001b[0mprint\u001b[0m\u001b[0;34m(\u001b[0m\u001b[0mnext\u001b[0m\u001b[0;34m(\u001b[0m\u001b[0mgen_ex\u001b[0m\u001b[0;34m)\u001b[0m\u001b[0;34m)\u001b[0m\u001b[0;34m\u001b[0m\u001b[0;34m\u001b[0m\u001b[0m\n",
            "\u001b[0;31mStopIteration\u001b[0m: "
          ]
        }
      ]
    },
    {
      "cell_type": "markdown",
      "source": [
        "##generator 사용 예시"
      ],
      "metadata": {
        "id": "n6rTgMhRHzxB"
      }
    },
    {
      "cell_type": "code",
      "source": [
        "# 무한히 나온는 숫자\n",
        "\n",
        "def genn():\n",
        "  i = 0\n",
        "  while True: # while = True 잘 사용 안하지만 generator는 가능!\n",
        "    yield i\n",
        "    i+=1\n",
        "\n",
        "gen_itn = genn()\n",
        "print(gen_itn)\n",
        "print(next(gen_itn))"
      ],
      "metadata": {
        "colab": {
          "base_uri": "https://localhost:8080/"
        },
        "id": "WyB-1FjzH2yI",
        "outputId": "eae2f7bf-2e7d-4ca1-be69-982226d3e0bc"
      },
      "execution_count": 15,
      "outputs": [
        {
          "output_type": "stream",
          "name": "stdout",
          "text": [
            "<generator object genn at 0x7b864999a650>\n",
            "0\n"
          ]
        }
      ]
    },
    {
      "cell_type": "code",
      "source": [
        "print(next(gen_itn))\n",
        "print(next(gen_itn))\n",
        "print(next(gen_itn))\n",
        "print(next(gen_itn))\n",
        "\n",
        "# 무한히 숫자 반환해주는 generator"
      ],
      "metadata": {
        "colab": {
          "base_uri": "https://localhost:8080/"
        },
        "id": "AFzNMiupIK6v",
        "outputId": "6b41f66b-fd6d-4c69-b1b1-4fc7ee37604d"
      },
      "execution_count": 17,
      "outputs": [
        {
          "output_type": "stream",
          "name": "stdout",
          "text": [
            "1\n",
            "2\n",
            "3\n",
            "4\n"
          ]
        }
      ]
    },
    {
      "cell_type": "markdown",
      "source": [
        "#generator와 iterator의 차이 : yield의 사용 차이"
      ],
      "metadata": {
        "id": "8delub1aIdzB"
      }
    }
  ]
}