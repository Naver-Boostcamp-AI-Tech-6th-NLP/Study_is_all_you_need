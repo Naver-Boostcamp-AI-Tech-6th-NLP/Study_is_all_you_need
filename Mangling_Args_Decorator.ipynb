{
  "nbformat": 4,
  "nbformat_minor": 0,
  "metadata": {
    "colab": {
      "provenance": []
    },
    "kernelspec": {
      "name": "python3",
      "display_name": "Python 3"
    },
    "language_info": {
      "name": "python"
    }
  },
  "cells": [
    {
      "cell_type": "markdown",
      "source": [
        "# 목표\n",
        "* mangling, 가변인자, decorator의 정의와 왜 필요한 지를 알고, 어디에 어떻게 쓰는지를 알아보자!\n",
        "* python 코드를 보다 위 3가지가 나왔을 때, 당황하지 않고 읽어 넘기기\n",
        "\n",
        "# 목차\n",
        "* 1.mangling\n",
        "\n",
        "* 2.가변인자, 키워드 가변인자\n",
        "\n",
        "* 3.decorator\n"
      ],
      "metadata": {
        "id": "cZ1JOuhDVAD7"
      }
    },
    {
      "cell_type": "markdown",
      "source": [
        "# 1. Mangling\n",
        "###정의\n",
        "* 뭉개다 -> 특정 변수/함수를 뭉갬 -> 외부 코드에서 발견할 수 없도록 하기 위함\n",
        "* 클래스 내부의 변수/함수명 앞에 언더스코어(_)를 두 개 붙여 적용\n",
        "* 맹글링된 변수/함수는 본연의 이름으로 접근 불가(_클래스명__속성명 으로 접근 가능)\n",
        "* 외부의 접근을 조금 어렵게 할 뿐, 완벽히 private이 되는 건 아님\n",
        "\n",
        "\n",
        "\n",
        "\n",
        "\n",
        "### 필요한 이유\n",
        "* 외부에서의 접근을 어느정도 막기 위해\n",
        "* 오버라이딩을 차단하기 위해(종종 하위클래스가 상위클래스의 속성을 오버라이딩 하려는 경우를 방지하려는 목적도 있음)\n",
        "\n"
      ],
      "metadata": {
        "id": "AYYVXDiiHrxx"
      }
    },
    {
      "cell_type": "code",
      "source": [
        "#사용 예(외부에서의 접근 차단)\n",
        "class TestClass:\n",
        "    def __init__(self):\n",
        "        self.name = \"왕춘삼\"\n",
        "        self.age = 30\n",
        "        self.__hobby = \"인형놀이\"   #hobby를 숨김 - private의 특성을 어느정도 띄게 됨 / _클래스명__속성명 으로 접근 가능\n",
        "\n",
        "\n",
        "man = TestClass()\n",
        "print(man.name, man.age, man.__hobby) #에러 : hobby를 못찾음"
      ],
      "metadata": {
        "id": "KTcFSlBzXGXd",
        "colab": {
          "base_uri": "https://localhost:8080/",
          "height": 220
        },
        "outputId": "5071d07c-fc9e-4013-aea2-d19de6538db8"
      },
      "execution_count": null,
      "outputs": [
        {
          "output_type": "error",
          "ename": "AttributeError",
          "evalue": "ignored",
          "traceback": [
            "\u001b[0;31m---------------------------------------------------------------------------\u001b[0m",
            "\u001b[0;31mAttributeError\u001b[0m                            Traceback (most recent call last)",
            "\u001b[0;32m<ipython-input-29-4b6ad34ef023>\u001b[0m in \u001b[0;36m<cell line: 10>\u001b[0;34m()\u001b[0m\n\u001b[1;32m      8\u001b[0m \u001b[0;34m\u001b[0m\u001b[0m\n\u001b[1;32m      9\u001b[0m \u001b[0mman\u001b[0m \u001b[0;34m=\u001b[0m \u001b[0mTestClass\u001b[0m\u001b[0;34m(\u001b[0m\u001b[0;34m)\u001b[0m\u001b[0;34m\u001b[0m\u001b[0;34m\u001b[0m\u001b[0m\n\u001b[0;32m---> 10\u001b[0;31m \u001b[0mprint\u001b[0m\u001b[0;34m(\u001b[0m\u001b[0mman\u001b[0m\u001b[0;34m.\u001b[0m\u001b[0mname\u001b[0m\u001b[0;34m,\u001b[0m \u001b[0mman\u001b[0m\u001b[0;34m.\u001b[0m\u001b[0mage\u001b[0m\u001b[0;34m,\u001b[0m \u001b[0mman\u001b[0m\u001b[0;34m.\u001b[0m\u001b[0m__hobby\u001b[0m\u001b[0;34m)\u001b[0m \u001b[0;31m#- 에러 : hobby를 못찾음\u001b[0m\u001b[0;34m\u001b[0m\u001b[0;34m\u001b[0m\u001b[0m\n\u001b[0m",
            "\u001b[0;31mAttributeError\u001b[0m: 'TestClass' object has no attribute '__hobby'"
          ]
        }
      ]
    },
    {
      "cell_type": "code",
      "source": [
        "print(dir(man)) # man의 모든 속성을 출력(dir함수 : 객체의 모든 속성 리스트 반환)"
      ],
      "metadata": {
        "colab": {
          "base_uri": "https://localhost:8080/"
        },
        "id": "O5XnXwmZXGZf",
        "outputId": "a3bafd65-f468-4cff-8aee-ef2daacd50ad"
      },
      "execution_count": null,
      "outputs": [
        {
          "output_type": "stream",
          "name": "stdout",
          "text": [
            "['_TestClass__hobby', '__class__', '__delattr__', '__dict__', '__dir__', '__doc__', '__eq__', '__format__', '__ge__', '__getattribute__', '__gt__', '__hash__', '__init__', '__init_subclass__', '__le__', '__lt__', '__module__', '__ne__', '__new__', '__reduce__', '__reduce_ex__', '__repr__', '__setattr__', '__sizeof__', '__str__', '__subclasshook__', '__weakref__', 'age', 'name']\n"
          ]
        }
      ]
    },
    {
      "cell_type": "code",
      "source": [
        "man._TestClass__hobby #이렇게 접근할 수 있음 / 형식 : _클래스명__속성명"
      ],
      "metadata": {
        "colab": {
          "base_uri": "https://localhost:8080/",
          "height": 35
        },
        "id": "kJJvHfdpXGbn",
        "outputId": "7a3f2a74-d6fa-4252-eda0-7d38f1738c03"
      },
      "execution_count": null,
      "outputs": [
        {
          "output_type": "execute_result",
          "data": {
            "text/plain": [
              "'인형놀이'"
            ],
            "application/vnd.google.colaboratory.intrinsic+json": {
              "type": "string"
            }
          },
          "metadata": {},
          "execution_count": 31
        }
      ]
    },
    {
      "cell_type": "code",
      "source": [
        "#사용 예 2(의도치 않은 오버라이딩 방지) - 자식이 의도치않게 부모의 속성을 오버라이딩 하는 것 방지\n",
        "\n",
        "class Parent:\n",
        "    def __init__(self):\n",
        "        self._protected_attribute = 10\n",
        "\n",
        "class Child(Parent):\n",
        "    def __init__(self):\n",
        "        super().__init__()\n",
        "        self._protected_attribute = 20  # 상위 클래스의 속성을 오버라이딩(서로 이름이 같아버려서)\n",
        "\n",
        "obj = Child()\n",
        "\n",
        "print(obj._protected_attribute)  # - 난 부모껄 참조하고 싶은뎁...\n"
      ],
      "metadata": {
        "colab": {
          "base_uri": "https://localhost:8080/"
        },
        "id": "_zgkhH56XGd_",
        "outputId": "1244d8d1-a5b2-484d-b24c-793fb3066860"
      },
      "execution_count": null,
      "outputs": [
        {
          "output_type": "stream",
          "name": "stdout",
          "text": [
            "20\n"
          ]
        }
      ]
    },
    {
      "cell_type": "code",
      "source": [
        "class Parent:\n",
        "    def __init__(self):\n",
        "        self.__protected_attribute = 10\n",
        "\n",
        "class Child(Parent):\n",
        "    def __init__(self):\n",
        "        super().__init__()\n",
        "        self.__protected_attribute = 20  # 상위 클래스의 속성을 오버라이딩(서로 이름이 같아버려서)\n",
        "\n",
        "obj = Child()\n",
        "\n",
        "print(obj._Parent__protected_attribute)  # - 부모꺼 참조 가능\n"
      ],
      "metadata": {
        "colab": {
          "base_uri": "https://localhost:8080/"
        },
        "id": "RUCaMZ57CmWV",
        "outputId": "aed6374d-be60-4b36-be99-cf1e0776aa45"
      },
      "execution_count": null,
      "outputs": [
        {
          "output_type": "stream",
          "name": "stdout",
          "text": [
            "10\n"
          ]
        }
      ]
    },
    {
      "cell_type": "markdown",
      "source": [
        "\n",
        "mangling 참고 : <br>\n",
        "https://jinmay.github.io/2019/11/24/python/python-private-variable/ <br>\n",
        "https://tibetsandfox.tistory.com/21"
      ],
      "metadata": {
        "id": "KHTgafWWIBU2"
      }
    },
    {
      "cell_type": "markdown",
      "source": [
        "#2. 가변인자, 키워드 가변인자\n",
        "###정의\n",
        "* \"*\"(가변인자), \"**\"(키워드 가변인자) - 함수에 유동적으로 파라미터를 전달할 때 사용\n",
        "* 일반적으로 args, kwargs라고 부름\n",
        "* 가변인자는 튜플 / 키워드 가변인자는 '키워드=값'(딕셔너리) 형태로 값 전달\n",
        "* args가 kwargs보다 항상 먼저 -> 함수호출의 가독성과 명확성을 높이기 위한 파이썬의 문법 규칙\n",
        "\n",
        "###필요한 이유\n",
        "* 함수 호출 시 인자의 개수를 동적으로 조절할 수 있어 편리하고, 코드의 유연성과 확장성을 높여줌\n",
        "* 대표적인 예 : print문\n",
        "\n",
        "###주의\n",
        "* 가변인자 남발 시 코드의 가독성이 오히려 떨어지고 함수의 동작 파악이 어려울 수 있음"
      ],
      "metadata": {
        "id": "Y5s_Y6cfwiNB"
      }
    },
    {
      "cell_type": "markdown",
      "source": [],
      "metadata": {
        "id": "0IaX6BBcwD09"
      }
    },
    {
      "cell_type": "code",
      "source": [
        "#가변인자 : *\n",
        "def print_numbers(*args):\n",
        "    print(args)\n",
        "    for arg in args:\n",
        "        print(arg)\n",
        "\n",
        "#파라미터의 수가 유동적 - 너무 꿀\n",
        "print_numbers(10)\n",
        "print_numbers(1, 2, 3, 4)"
      ],
      "metadata": {
        "colab": {
          "base_uri": "https://localhost:8080/"
        },
        "outputId": "3e561e21-ae36-4777-d1c3-311534243b9f",
        "id": "bCDF6J0wwiNB"
      },
      "execution_count": null,
      "outputs": [
        {
          "output_type": "stream",
          "name": "stdout",
          "text": [
            "(10,)\n",
            "10\n",
            "(1, 2, 3, 4)\n",
            "1\n",
            "2\n",
            "3\n",
            "4\n"
          ]
        }
      ]
    },
    {
      "cell_type": "markdown",
      "source": [
        "* 가변 인자 : 튜플\n",
        "* 키워드 가변인자 : '키워드=값'(딕셔너리)"
      ],
      "metadata": {
        "id": "D8ThT_aEwiNC"
      }
    },
    {
      "cell_type": "code",
      "source": [
        "#키워드 가변인자 : **\n",
        "\n",
        "def personal_info(age, name, address):\n",
        "    print('이름: ', name)\n",
        "    print('나이: ', age)\n",
        "    print('주소: ', address)\n",
        "\n",
        "x = {'name': '홍길동', 'age': 30, 'address': '서울시 용산구 이촌동'}\n",
        "\n",
        "personal_info(**x)  #정석은 이렇게 - 각 value값들이 key값에 맞게끔 전달됨\n"
      ],
      "metadata": {
        "colab": {
          "base_uri": "https://localhost:8080/"
        },
        "outputId": "5633a3bd-c36a-4313-f13f-c29446e645c2",
        "id": "OFa1tAjbwiNC"
      },
      "execution_count": 2,
      "outputs": [
        {
          "output_type": "stream",
          "name": "stdout",
          "text": [
            "이름:  홍길동\n",
            "나이:  30\n",
            "주소:  서울시 용산구 이촌동\n"
          ]
        }
      ]
    },
    {
      "cell_type": "markdown",
      "source": [
        "#3. Decorator\n",
        "\n",
        "###사전지식 : 클로저(closure)\n",
        "* 외부 함수의 지역 변수를 참조하는 내부 함수를 클로저 함수라고 함.\n",
        "* 내부 함수는 자신이 생성될 때의 환경, 즉 상위 함수의 지역 변수를 '기억'하고 있는 상태가 됨\n",
        "* 내부 함수가 호출될 때마다, 내부 함수는 외부 함수의 지역 변수를 '참조'하여 동작을 수행\n",
        "\n",
        "* 참고 : https://sungmin93.tistory.com/32\n",
        "<br><br>"
      ],
      "metadata": {
        "id": "UURdZnxWlYt9"
      }
    },
    {
      "cell_type": "code",
      "source": [
        "#print1과 print2함수는 각각 자기가 어떤 값을 출력해야 하는지를 기억하고 있다.\n",
        "def outer(x):\n",
        "    def inner():\n",
        "        print(x)\n",
        "    return inner\n",
        "\n",
        "print1 = outer(1)\n",
        "print2 = outer(2)\n",
        "\n",
        "print(type(print1))\n",
        "print1()\n",
        "print2()\n",
        "\n",
        "\n",
        "#출처: https://engineer-mole.tistory.com/181 [매일 꾸준히, 더 깊이:티스토리]"
      ],
      "metadata": {
        "colab": {
          "base_uri": "https://localhost:8080/"
        },
        "id": "MuGM7oCGlZgv",
        "outputId": "8a8703af-4e69-4fd2-cb5a-f3b10ebccf95"
      },
      "execution_count": null,
      "outputs": [
        {
          "output_type": "stream",
          "name": "stdout",
          "text": [
            "<class 'function'>\n",
            "1\n",
            "2\n"
          ]
        }
      ]
    },
    {
      "cell_type": "markdown",
      "source": [
        "\n",
        "\n",
        "##Decorator 정의\n",
        "* 소스코드를 변경하지 않고 다른 함수/메서드의 동작을 수정할 수 있는 고차함수\n",
        "* 적용할 함수 바로 위에 '@데코레이터_이름'을 붙여준다.\n",
        "* 모든 Callable Object가 데코레이터가 될 수 있음(함수, 메서드, 변수 모두 가능)\n",
        "\n",
        "\n",
        "\n",
        "###필요한 이유\n",
        "* 기존의 코드를 수정하지 않고도 여러가지 기능을 추가할 수 있음\n",
        "* DRY(Don't Repeat Yourself) - 깔끔한 코드를 만들며 코드의 반복 줄임 -> 효율 굳\n",
        "* 외부에서 특정 함수나 클래스에 개입하는 경우 사용\n",
        "\n",
        "###주의\n",
        "* 함수의 서명(반환값, 매개변수, 함수 동작)을 바꿀 수 있기 때문에 신중한 사용 필요\n",
        "* 서명이 변경되면 기존에 해당 함수를 사용하던 코드들이 동작하지 않을 수 있음"
      ],
      "metadata": {
        "id": "5CW4c6h2wqxy"
      }
    },
    {
      "cell_type": "code",
      "source": [
        "#맛보기\n",
        "def decorator_function(func):\n",
        "    def wrapper(*args, **kwargs):\n",
        "        print(\"이게 먼데\")\n",
        "\n",
        "    return wrapper\n",
        "\n",
        "\n",
        "class Mainclass:\n",
        "\n",
        "    @decorator_function # main_function은  decorator_function(main_function)으로 대체됨 -> wrapper함수로 대체\n",
        "    def main_function(self):\n",
        "        print(\"하이\")\n",
        "\n",
        "    def main_function2(self):\n",
        "        print(\"하이하이\")\n",
        "\n",
        "\n",
        "print(\"MAIN FUNCTION START\")\n",
        "my = Mainclass()\n",
        "my.main_function()\n",
        "my.main_function2()\n"
      ],
      "metadata": {
        "colab": {
          "base_uri": "https://localhost:8080/"
        },
        "id": "Mj4Eq9oMWL5Q",
        "outputId": "34b51c4a-a170-4f5b-c0a7-4d08896e343c"
      },
      "execution_count": null,
      "outputs": [
        {
          "output_type": "stream",
          "name": "stdout",
          "text": [
            "MAIN FUNCTION START\n",
            "이게 먼데\n",
            "하이하이\n"
          ]
        }
      ]
    },
    {
      "cell_type": "markdown",
      "source": [
        "* \"@decorator_function\"이 위에 있으면, 그 함수는 '데코레이터 함수의 반환값'으로 대체\n",
        "* 원래 함수와 파라미터는 데코레이터 함수로 넘겨짐\n",
        "\n",
        "<br>\n",
        "<br>\n",
        "\n",
        "* 강의에서 나온 예제"
      ],
      "metadata": {
        "id": "5QJqTuZQjwK8"
      }
    },
    {
      "cell_type": "code",
      "source": [
        "# 메시지 출력 위아래로 별찍기 - 꾸미기\n",
        "def star(func):\n",
        "    def inner(*args):\n",
        "        print(args[1] * 30)\n",
        "        func(*args)\n",
        "        print(args[1] * 30)\n",
        "    return inner\n",
        "\n",
        "@star # printer = star(printer) 이후 printer 실행\n",
        "def printer(msg, mark):\n",
        "    print(msg)\n",
        "\n",
        "printer(\"Hello\", \"*\")"
      ],
      "metadata": {
        "colab": {
          "base_uri": "https://localhost:8080/"
        },
        "id": "4Z97-dkamoEM",
        "outputId": "17a3a0de-cecd-4981-8e01-2e8de915868d"
      },
      "execution_count": null,
      "outputs": [
        {
          "output_type": "stream",
          "name": "stdout",
          "text": [
            "******************************\n",
            "Hello\n",
            "******************************\n"
          ]
        }
      ]
    },
    {
      "cell_type": "code",
      "source": [
        "#2의 49제곱\n",
        "def generate_power(exponent):\t\t# exponent 값은 2 -> @generate_power(2) 이므로\n",
        "\n",
        "    def wrapper(f):\t\t\t        # f는 raise_two함수\n",
        "\n",
        "\n",
        "        def inner(*args):\t\t    # args는 raise_two의 파라미터인 7 -> 형태가 (7,)임\n",
        "\t\t\t\t\t                  # unpacking을 위해 *을 붙여 *args\n",
        "            result = f(*args)\t\t# 7을 넣은 raise_two 결과값이 result에 저장\n",
        "            return exponent**result\t# 2^49 return\n",
        "\n",
        "        return inner\n",
        "    return wrapper\n",
        "\n",
        "\n",
        "# @~(데코레이터)가 붙는 순간, raise_two호출마다\n",
        "# generate_power 함수를 호출하고, 파라미터로  raise_two함수가 들어감\n",
        "\n",
        "@generate_power(2) \t\t\t# raise_two = generate_power(2)(raise_two) 를 실질적으로 수행\n",
        "def raise_two(n):\n",
        "    return n**2\n",
        "\n",
        "\n",
        "print(\"2^49 = \", raise_two(7))\n",
        "2**49"
      ],
      "metadata": {
        "colab": {
          "base_uri": "https://localhost:8080/"
        },
        "id": "wVmWBcbFWL9c",
        "outputId": "ecff3da7-8e27-4818-c824-1b884f99e11f"
      },
      "execution_count": null,
      "outputs": [
        {
          "output_type": "stream",
          "name": "stdout",
          "text": [
            "2^49 =  562949953421312\n"
          ]
        },
        {
          "output_type": "execute_result",
          "data": {
            "text/plain": [
              "562949953421312"
            ]
          },
          "metadata": {},
          "execution_count": 34
        }
      ]
    },
    {
      "cell_type": "code",
      "source": [
        "# 함수를 추적하는 기능을 추가할 때 -> decorator 사용 예\n",
        "\n",
        "def trace(func):                             # 호출할 함수를 매개변수로 받음\n",
        "    def wrapper():\n",
        "        print(func.__name__, '함수 시작')    # __name__으로 함수 이름 출력\n",
        "        func()                               # 매개변수로 받은 함수를 호출\n",
        "        print(func.__name__, '함수 끝')\n",
        "    return wrapper                           # wrapper 함수 반환\n",
        "\n",
        "@trace   # 데코레이터를 사용해 hello에 추적 기능 추가\n",
        "def hello():\n",
        "    print('hello')\n",
        "\n",
        "@trace   # 데코레이터를 사용해 world에 추적 기능 추가\n",
        "def world():\n",
        "    print('world')\n",
        "\n",
        "hello()    # 함수를 그대로 호출\n",
        "world()    # 함수를 그대로 호출\n",
        "\n",
        "# 출처 : https://dojang.io/mod/page/view.php?id=2427"
      ],
      "metadata": {
        "colab": {
          "base_uri": "https://localhost:8080/"
        },
        "id": "5qixFXevp7MA",
        "outputId": "f8e87d31-6b35-4590-d775-1d29c7a7d519"
      },
      "execution_count": null,
      "outputs": [
        {
          "output_type": "stream",
          "name": "stdout",
          "text": [
            "hello 함수 시작\n",
            "hello\n",
            "hello 함수 끝\n",
            "world 함수 시작\n",
            "world\n",
            "world 함수 끝\n"
          ]
        }
      ]
    },
    {
      "cell_type": "code",
      "source": [
        "#데코레이터를 이용한 타이머 함수 -> 해당 함수의 실행시간을 기록하려고 함!\n",
        "import time\n",
        "\n",
        "def timer_decorator(func):\n",
        "    def wrapper(*args, **kwargs):\n",
        "        start_time = time.time()  # 시작 시간 측정\n",
        "        result = func(*args, **kwargs)  # 원래 함수 실행\n",
        "        end_time = time.time()  # 종료 시간 측정\n",
        "        print(f\"{func.__name__} 함수의 실행 시간: {end_time - start_time}초\")\n",
        "        return result\n",
        "    return wrapper\n",
        "\n",
        "@timer_decorator  # 데코레이터를 사용해 my_function에 타이머 기능 추가\n",
        "def my_function(n):\n",
        "    total = 0\n",
        "    for i in range(n):\n",
        "        total += i\n",
        "    return total\n",
        "\n",
        "result = my_function(1000000)  # 함수 실행 및 실행 시간 출력\n",
        "print(result)\n",
        "# 출력\n",
        "#my_function 함수의 실행 시간: 0.12572193145751953초"
      ],
      "metadata": {
        "colab": {
          "base_uri": "https://localhost:8080/"
        },
        "id": "E-95pfW6tov_",
        "outputId": "6b85cf56-36b2-4f30-da31-d24fd9ac296b"
      },
      "execution_count": 1,
      "outputs": [
        {
          "output_type": "stream",
          "name": "stdout",
          "text": [
            "my_function 함수의 실행 시간: 0.09530282020568848초\n",
            "499999500000\n"
          ]
        }
      ]
    },
    {
      "cell_type": "markdown",
      "source": [
        "Decorator 참고:<br>\n",
        "https://m.blog.naver.com/devinfo_today/220759606738 <br>\n",
        "https://dojang.io/mod/page/view.php?id=2427 <br>\n",
        "https://bluese05.tistory.com/30 <br>\n",
        "https://schoolofweb.net/blog/posts/%ed%8c%8c%ec%9d%b4%ec%8d%ac-%eb%8d%b0%ec%bd%94%eb%a0%88%ec%9d%b4%ed%84%b0-decorator/ <br>\n",
        "https://m.blog.naver.com/devinfo_today/220762435465 <br>\n",
        "https://ksrae.github.io/javascript/decorator/ <br>\n",
        "https://whatisthenext.tistory.com/113 <br>"
      ],
      "metadata": {
        "id": "06D_-Xk24ymw"
      }
    },
    {
      "cell_type": "markdown",
      "source": [
        "# 결론\n",
        "* Mangling은 변수/함수를 뭉개서 다른이름으로 사용하게끔 하는 기법이다!\n",
        "* 가변인자, 키워드 가변인자는 유동적인 개수의 값을 입력받을 수 있는 파라미터이다!\n",
        "* 데코레이터는 원본함수의 수정 없이 특정 함수/변수/클래스의 부가적인 기능을 구현할 때 사용된다!\n",
        "\n",
        "* 이해가 완벽히 되지 않았더라도, '줄건 준다는 마인드'를 장착하고 필요할 때 다시 찾아보기로 한다!"
      ],
      "metadata": {
        "id": "oN4MK-MH_iOP"
      }
    }
  ]
}