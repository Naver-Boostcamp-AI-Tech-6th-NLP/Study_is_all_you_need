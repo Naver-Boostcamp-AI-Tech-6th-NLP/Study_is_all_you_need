{
  "nbformat": 4,
  "nbformat_minor": 0,
  "metadata": {
    "colab": {
      "provenance": [],
      "authorship_tag": "ABX9TyOqvbJCBzDjuShyvabpeTeo",
      "include_colab_link": true
    },
    "kernelspec": {
      "name": "python3",
      "display_name": "Python 3"
    },
    "language_info": {
      "name": "python"
    }
  },
  "cells": [
    {
      "cell_type": "markdown",
      "metadata": {
        "id": "view-in-github",
        "colab_type": "text"
      },
      "source": [
        "<a href=\"https://colab.research.google.com/github/jaealways/Study_is_all_you_need/blob/main/Pseduo_Inverse_Matrix.ipynb\" target=\"_parent\"><img src=\"https://colab.research.google.com/assets/colab-badge.svg\" alt=\"Open In Colab\"/></a>"
      ]
    },
    {
      "cell_type": "markdown",
      "source": [
        "작성자: 이재형 <br>\n",
        "작성일: 2023-11-10"
      ],
      "metadata": {
        "id": "UqxFUP1TsYeu"
      }
    },
    {
      "cell_type": "markdown",
      "source": [
        "# 0. 유사역행렬의 필요성"
      ],
      "metadata": {
        "id": "MG7dj264qNmt"
      }
    },
    {
      "cell_type": "markdown",
      "source": [
        "- 역행렬은 정방행렬(행과 열의 갯수가 같은 행렬)에서만 정의되는데, 정방행렬이 아닌 경우 역행렬 계산을 할 수 없다는 단점 존재\n",
        "- 행과 열의 갯수가 다른 행렬 A에 대해 역행렬 계산이 가능하도록 하는 것이 유사역행렬(무어-펜로즈 행렬)"
      ],
      "metadata": {
        "id": "OQoK5bTFqWMO"
      }
    },
    {
      "cell_type": "code",
      "source": [
        "import numpy as np\n",
        "\n",
        "x= np.arange(1,10).reshape(3,3)\n",
        "y= np.array([[6,23],[-1,7],[8,9]])\n",
        "A=np.dot(x,y)"
      ],
      "metadata": {
        "id": "wD2DVak2sEjh"
      },
      "execution_count": null,
      "outputs": []
    },
    {
      "cell_type": "code",
      "source": [
        "A"
      ],
      "metadata": {
        "id": "yme7ZbvCsR9K",
        "colab": {
          "base_uri": "https://localhost:8080/"
        },
        "outputId": "1aceea4e-b081-4dcb-8d3d-93adff707dad"
      },
      "execution_count": null,
      "outputs": [
        {
          "output_type": "execute_result",
          "data": {
            "text/plain": [
              "array([[ 28,  64],\n",
              "       [ 67, 181],\n",
              "       [106, 298]])"
            ]
          },
          "metadata": {},
          "execution_count": 2
        }
      ]
    },
    {
      "cell_type": "code",
      "source": [
        "np.linalg.inv(A)"
      ],
      "metadata": {
        "id": "2dtmSlfhso9M",
        "colab": {
          "base_uri": "https://localhost:8080/",
          "height": 323
        },
        "outputId": "44d976e9-cd32-42db-8202-d7fe6c03f406"
      },
      "execution_count": null,
      "outputs": [
        {
          "output_type": "error",
          "ename": "LinAlgError",
          "evalue": "ignored",
          "traceback": [
            "\u001b[0;31m---------------------------------------------------------------------------\u001b[0m",
            "\u001b[0;31mLinAlgError\u001b[0m                               Traceback (most recent call last)",
            "\u001b[0;32m<ipython-input-3-ae645f97e1f8>\u001b[0m in \u001b[0;36m<cell line: 1>\u001b[0;34m()\u001b[0m\n\u001b[0;32m----> 1\u001b[0;31m \u001b[0mnp\u001b[0m\u001b[0;34m.\u001b[0m\u001b[0mlinalg\u001b[0m\u001b[0;34m.\u001b[0m\u001b[0minv\u001b[0m\u001b[0;34m(\u001b[0m\u001b[0mA\u001b[0m\u001b[0;34m)\u001b[0m\u001b[0;34m\u001b[0m\u001b[0;34m\u001b[0m\u001b[0m\n\u001b[0m",
            "\u001b[0;32m/usr/local/lib/python3.10/dist-packages/numpy/core/overrides.py\u001b[0m in \u001b[0;36minv\u001b[0;34m(*args, **kwargs)\u001b[0m\n",
            "\u001b[0;32m/usr/local/lib/python3.10/dist-packages/numpy/linalg/linalg.py\u001b[0m in \u001b[0;36minv\u001b[0;34m(a)\u001b[0m\n\u001b[1;32m    545\u001b[0m     \u001b[0ma\u001b[0m\u001b[0;34m,\u001b[0m \u001b[0mwrap\u001b[0m \u001b[0;34m=\u001b[0m \u001b[0m_makearray\u001b[0m\u001b[0;34m(\u001b[0m\u001b[0ma\u001b[0m\u001b[0;34m)\u001b[0m\u001b[0;34m\u001b[0m\u001b[0;34m\u001b[0m\u001b[0m\n\u001b[1;32m    546\u001b[0m     \u001b[0m_assert_stacked_2d\u001b[0m\u001b[0;34m(\u001b[0m\u001b[0ma\u001b[0m\u001b[0;34m)\u001b[0m\u001b[0;34m\u001b[0m\u001b[0;34m\u001b[0m\u001b[0m\n\u001b[0;32m--> 547\u001b[0;31m     \u001b[0m_assert_stacked_square\u001b[0m\u001b[0;34m(\u001b[0m\u001b[0ma\u001b[0m\u001b[0;34m)\u001b[0m\u001b[0;34m\u001b[0m\u001b[0;34m\u001b[0m\u001b[0m\n\u001b[0m\u001b[1;32m    548\u001b[0m     \u001b[0mt\u001b[0m\u001b[0;34m,\u001b[0m \u001b[0mresult_t\u001b[0m \u001b[0;34m=\u001b[0m \u001b[0m_commonType\u001b[0m\u001b[0;34m(\u001b[0m\u001b[0ma\u001b[0m\u001b[0;34m)\u001b[0m\u001b[0;34m\u001b[0m\u001b[0;34m\u001b[0m\u001b[0m\n\u001b[1;32m    549\u001b[0m \u001b[0;34m\u001b[0m\u001b[0m\n",
            "\u001b[0;32m/usr/local/lib/python3.10/dist-packages/numpy/linalg/linalg.py\u001b[0m in \u001b[0;36m_assert_stacked_square\u001b[0;34m(*arrays)\u001b[0m\n\u001b[1;32m    202\u001b[0m         \u001b[0mm\u001b[0m\u001b[0;34m,\u001b[0m \u001b[0mn\u001b[0m \u001b[0;34m=\u001b[0m \u001b[0ma\u001b[0m\u001b[0;34m.\u001b[0m\u001b[0mshape\u001b[0m\u001b[0;34m[\u001b[0m\u001b[0;34m-\u001b[0m\u001b[0;36m2\u001b[0m\u001b[0;34m:\u001b[0m\u001b[0;34m]\u001b[0m\u001b[0;34m\u001b[0m\u001b[0;34m\u001b[0m\u001b[0m\n\u001b[1;32m    203\u001b[0m         \u001b[0;32mif\u001b[0m \u001b[0mm\u001b[0m \u001b[0;34m!=\u001b[0m \u001b[0mn\u001b[0m\u001b[0;34m:\u001b[0m\u001b[0;34m\u001b[0m\u001b[0;34m\u001b[0m\u001b[0m\n\u001b[0;32m--> 204\u001b[0;31m             \u001b[0;32mraise\u001b[0m \u001b[0mLinAlgError\u001b[0m\u001b[0;34m(\u001b[0m\u001b[0;34m'Last 2 dimensions of the array must be square'\u001b[0m\u001b[0;34m)\u001b[0m\u001b[0;34m\u001b[0m\u001b[0;34m\u001b[0m\u001b[0m\n\u001b[0m\u001b[1;32m    205\u001b[0m \u001b[0;34m\u001b[0m\u001b[0m\n\u001b[1;32m    206\u001b[0m \u001b[0;32mdef\u001b[0m \u001b[0m_assert_finite\u001b[0m\u001b[0;34m(\u001b[0m\u001b[0;34m*\u001b[0m\u001b[0marrays\u001b[0m\u001b[0;34m)\u001b[0m\u001b[0;34m:\u001b[0m\u001b[0;34m\u001b[0m\u001b[0;34m\u001b[0m\u001b[0m\n",
            "\u001b[0;31mLinAlgError\u001b[0m: Last 2 dimensions of the array must be square"
          ]
        }
      ]
    },
    {
      "cell_type": "markdown",
      "source": [
        "- 정방행렬(full rank)이 아니라서 error 발생"
      ],
      "metadata": {
        "id": "43_zRZggtA2R"
      }
    },
    {
      "cell_type": "markdown",
      "source": [
        "# 1. SVD"
      ],
      "metadata": {
        "id": "B952iY2Yrc10"
      }
    },
    {
      "cell_type": "markdown",
      "source": [
        "![image.png](data:image/png;base64,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)\n",
        "<br>[출처 위키백과](https://en.wikipedia.org/wiki/Singular_value_decomposition)"
      ],
      "metadata": {
        "id": "KWMK6nLDvceY"
      }
    },
    {
      "cell_type": "markdown",
      "source": [
        "- Singular Value Decomposition(SVD)를 활용하면 무어-펜로즈 유사 역행렬을 쉽게 계산할 수 있음\n",
        "- 특이값분해를 통해 어떤 행렬 A를 다음과 같이 나타낼 수 있음\n",
        "$$A=U \\Sigma V^T $$\n",
        "- 이 때, U와 V는 transpose된 값을 곱해서 단위행렬로 만들 수 있음\n",
        "\n",
        "\n",
        "<br>[참고자료 공돌이의 수학노트](https://angeloyeo.github.io/2019/08/01/SVD.html)"
      ],
      "metadata": {
        "id": "twmHAkxTrfp0"
      }
    },
    {
      "cell_type": "markdown",
      "source": [
        "![image.png](data:image/png;base64,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)"
      ],
      "metadata": {
        "id": "2Ff_KNBExgaI"
      }
    },
    {
      "cell_type": "markdown",
      "source": [
        "[참고자료 다크프로그래머 특이값분해의 활용](https://darkpgmr.tistory.com/106)"
      ],
      "metadata": {
        "id": "-IjLAcLtxlhP"
      }
    },
    {
      "cell_type": "markdown",
      "source": [
        "- 결국 SVD를 통해 한 행렬을 여러 특성으로 분해하고, 데이터를 압축하는데 응용할 수 있음"
      ],
      "metadata": {
        "id": "XvW4q1cexGOy"
      }
    },
    {
      "cell_type": "code",
      "execution_count": null,
      "metadata": {
        "id": "r0YO-SfkqCl9"
      },
      "outputs": [],
      "source": [
        "U,S,V=np.linalg.svd(A)\n",
        "S=np.diag(S)"
      ]
    },
    {
      "cell_type": "code",
      "source": [
        "print(U)\n",
        "print()\n",
        "print(S)\n",
        "print()\n",
        "print(V)"
      ],
      "metadata": {
        "id": "eecDj5N1qOGV",
        "colab": {
          "base_uri": "https://localhost:8080/"
        },
        "outputId": "09e4bd7f-2aec-47f1-cdd0-8eaa4c91f70c"
      },
      "execution_count": null,
      "outputs": [
        {
          "output_type": "stream",
          "name": "stdout",
          "text": [
            "[[-0.18489707  0.89394989  0.40824829]\n",
            " [-0.51190304  0.26699926 -0.81649658]\n",
            " [-0.83890902 -0.35995136  0.40824829]]\n",
            "\n",
            "[[377.02031651   0.        ]\n",
            " [  0.           5.06763672]]\n",
            "\n",
            "[[-0.34056249 -0.94022188]\n",
            " [ 0.94022188 -0.34056249]]\n"
          ]
        }
      ]
    },
    {
      "cell_type": "markdown",
      "source": [
        "# 2. 유사역행렬"
      ],
      "metadata": {
        "id": "w0bEDXMvzuMd"
      }
    },
    {
      "cell_type": "markdown",
      "source": [
        "- 해를 구하기 위해선 미지수의 갯수(m)와 주어진 식의 갯수(n)를 생각해야 함\n",
        "- 일반적으로 m>n인 경우, 모든 해를 구할 수 없음\n",
        "- 유사역행렬은 m<n일 경우엔 적어도 한 개의 해를,\n",
        "- m>n일 경우엔 최적의 해를 추정하는 용도로 사용\n",
        "- **(이 때 모든 열벡터는 선형독립이 가정되야 함) 즉 아래 케이스는 n이 하나임**\n",
        "$$2x+4=0 \\\\ x+2=0$$\n"
      ],
      "metadata": {
        "id": "WVIqGt1K0Env"
      }
    },
    {
      "cell_type": "markdown",
      "source": [
        "## 2.1 m>n"
      ],
      "metadata": {
        "id": "l6NCatgH4STn"
      }
    },
    {
      "cell_type": "markdown",
      "source": [
        "$$ A^+=(A^T A)^{-1} A^T $$\n",
        "- $A^+$는 $A$의 유사역행렬로 $A^+A=I$가 성립\n",
        "- m>n 조건을 만들기 위해 A를 transpose 시킴"
      ],
      "metadata": {
        "id": "_Vi6UoTc4WVs"
      }
    },
    {
      "cell_type": "code",
      "source": [
        "A=np.transpose(A)\n",
        "U,S,V=np.linalg.svd(A)\n",
        "S=np.diag(S)"
      ],
      "metadata": {
        "id": "Z85NksI-6R6C"
      },
      "execution_count": null,
      "outputs": []
    },
    {
      "cell_type": "markdown",
      "source": [
        "- SVD를 활용해서 $A^+$를 다음과 같이 나타낼 수 있음\n",
        "\n",
        "$$ A^+=V \\Sigma^{-1} U^T $$"
      ],
      "metadata": {
        "id": "frBTwVM79M_m"
      }
    },
    {
      "cell_type": "code",
      "source": [
        "np.linalg.pinv(A)"
      ],
      "metadata": {
        "id": "SYaCdvwABlqo",
        "colab": {
          "base_uri": "https://localhost:8080/"
        },
        "outputId": "9169704b-fa54-4c0a-e59f-554189a393b6"
      },
      "execution_count": null,
      "outputs": [
        {
          "output_type": "execute_result",
          "data": {
            "text/plain": [
              "array([[ 0.16602564, -0.05961538],\n",
              "       [ 0.05      , -0.01666667],\n",
              "       [-0.06602564,  0.02628205]])"
            ]
          },
          "metadata": {},
          "execution_count": 9
        }
      ]
    },
    {
      "cell_type": "code",
      "source": [
        "U"
      ],
      "metadata": {
        "id": "TVbWP1jQ_qcf",
        "colab": {
          "base_uri": "https://localhost:8080/"
        },
        "outputId": "859428e6-3c62-42a6-9b28-3efb6e800221"
      },
      "execution_count": null,
      "outputs": [
        {
          "output_type": "execute_result",
          "data": {
            "text/plain": [
              "array([[-0.34056249, -0.94022188],\n",
              "       [-0.94022188,  0.34056249]])"
            ]
          },
          "metadata": {},
          "execution_count": 10
        }
      ]
    },
    {
      "cell_type": "code",
      "source": [
        "A_p=V*np.linalg.inv(S)*np.transpose(U)"
      ],
      "metadata": {
        "id": "lmmW3mNXzt6l",
        "colab": {
          "base_uri": "https://localhost:8080/",
          "height": 178
        },
        "outputId": "e3aa50a3-a757-4ff4-a2dd-dab44d8cbab7"
      },
      "execution_count": null,
      "outputs": [
        {
          "output_type": "error",
          "ename": "ValueError",
          "evalue": "ignored",
          "traceback": [
            "\u001b[0;31m---------------------------------------------------------------------------\u001b[0m",
            "\u001b[0;31mValueError\u001b[0m                                Traceback (most recent call last)",
            "\u001b[0;32m<ipython-input-11-9cf98b5f9156>\u001b[0m in \u001b[0;36m<cell line: 1>\u001b[0;34m()\u001b[0m\n\u001b[0;32m----> 1\u001b[0;31m \u001b[0mA_p\u001b[0m\u001b[0;34m=\u001b[0m\u001b[0mV\u001b[0m\u001b[0;34m*\u001b[0m\u001b[0mnp\u001b[0m\u001b[0;34m.\u001b[0m\u001b[0mlinalg\u001b[0m\u001b[0;34m.\u001b[0m\u001b[0minv\u001b[0m\u001b[0;34m(\u001b[0m\u001b[0mS\u001b[0m\u001b[0;34m)\u001b[0m\u001b[0;34m*\u001b[0m\u001b[0mnp\u001b[0m\u001b[0;34m.\u001b[0m\u001b[0mtranspose\u001b[0m\u001b[0;34m(\u001b[0m\u001b[0mU\u001b[0m\u001b[0;34m)\u001b[0m\u001b[0;34m\u001b[0m\u001b[0;34m\u001b[0m\u001b[0m\n\u001b[0m",
            "\u001b[0;31mValueError\u001b[0m: operands could not be broadcast together with shapes (3,3) (2,2) "
          ]
        }
      ]
    },
    {
      "cell_type": "markdown",
      "source": [
        "# Reference\n",
        "[유사 역행렬 (Pseudo Inverse Matrix)](https://pasus.tistory.com/31)\n"
      ],
      "metadata": {
        "id": "JqFkqTn0rnmN"
      }
    },
    {
      "cell_type": "markdown",
      "source": [
        "# Further Reading\n",
        "- 조금 더 자세하고 디테일한 수학적 증명 <br>\n",
        "[공돌이의 수학정리노트 의사역행렬의 기하학적 의미](https://angeloyeo.github.io/2020/11/11/pseudo_inverse.html)\n"
      ],
      "metadata": {
        "id": "yrUsRUBVqXPd"
      }
    }
  ]
}